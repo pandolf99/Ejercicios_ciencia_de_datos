{
 "cells": [
  {
   "cell_type": "markdown",
   "metadata": {
    "collapsed": true
   },
   "source": [
    "# Pandas\n",
    "## Herramienta de python para analizar datos. "
   ]
  },
  {
   "cell_type": "code",
   "execution_count": 1,
   "metadata": {},
   "outputs": [],
   "source": [
    "import pandas as pd\n",
    "import numpy as np"
   ]
  },
  {
   "cell_type": "markdown",
   "metadata": {},
   "source": [
    "# Series\n",
    "### Estructura para guardar datos. Es un listado de objetos (data) donde cada objeto tiene un indice.\n",
    "### Se crea usando dos parametros: Data e Indice"
   ]
  },
  {
   "cell_type": "code",
   "execution_count": 2,
   "metadata": {},
   "outputs": [],
   "source": [
    "data = np.random.randint(0, 100, 10)  # Crear un listado de numeros aleatorios \n",
    "indice = range(1, 11)  # Un listado de numeros para \"label\" los datos.  "
   ]
  },
  {
   "cell_type": "code",
   "execution_count": 3,
   "metadata": {},
   "outputs": [],
   "source": [
    "serie = pd.Series(data, indice)  # Crear la serie"
   ]
  },
  {
   "cell_type": "code",
   "execution_count": 4,
   "metadata": {},
   "outputs": [
    {
     "data": {
      "text/plain": [
       "1     72\n",
       "2     76\n",
       "3     83\n",
       "4     43\n",
       "5      6\n",
       "6     81\n",
       "7     61\n",
       "8     34\n",
       "9     29\n",
       "10     1\n",
       "dtype: int32"
      ]
     },
     "execution_count": 4,
     "metadata": {},
     "output_type": "execute_result"
    }
   ],
   "source": [
    "serie"
   ]
  },
  {
   "cell_type": "markdown",
   "metadata": {},
   "source": [
    "### El indice puede ser cualquier objeto de pandas o python. Por ejemplo un rango de fechas\n",
    "### Ver https://pandas.pydata.org/pandas-docs/stable/timeseries.html#offset-aliases para  una lista de frecuencias"
   ]
  },
  {
   "cell_type": "code",
   "execution_count": 5,
   "metadata": {},
   "outputs": [],
   "source": [
    "indice_2 = pd.date_range(start=\"2015-01-01\", end=\"2018-12-31\", freq=\"D\")  # Crear un listado de fechas diarias de 4 años\n",
    "data_2 = np.random.randint(1, 100, len(indice_2))  # Numeros aleatorios para cada fecha"
   ]
  },
  {
   "cell_type": "code",
   "execution_count": 6,
   "metadata": {},
   "outputs": [],
   "source": [
    "# Crear serie_2 con los nuevos pararametros\n",
    "serie_2 = pd.Series(data_2, indice_2)"
   ]
  },
  {
   "cell_type": "markdown",
   "metadata": {},
   "source": [
    "## Para datos grandes es imposible trabajar con los datos visualmente. Hay que usar información sobre los datos y trabajar con los datos indirectamente. "
   ]
  },
  {
   "cell_type": "code",
   "execution_count": 7,
   "metadata": {},
   "outputs": [
    {
     "name": "stdout",
     "output_type": "stream",
     "text": [
      "1461\n",
      "\n",
      "2015-01-01    17\n",
      "2015-01-02    70\n",
      "2015-01-03    74\n",
      "2015-01-04    19\n",
      "2015-01-05    40\n",
      "Freq: D, dtype: int32\n",
      "\n",
      "\n",
      "2018-12-27    83\n",
      "2018-12-28    62\n",
      "2018-12-29    40\n",
      "2018-12-30    23\n",
      "2018-12-31    51\n",
      "Freq: D, dtype: int32\n",
      "\n",
      "\n",
      "50.6735112936345\n",
      "\n",
      "51.0\n",
      "\n",
      "28.366960147411604\n"
     ]
    }
   ],
   "source": [
    "# Informacion util de datos grandes:\n",
    "print(str(len(serie_2)) + \"\\n\")  # El largo de la serie\n",
    "print(serie_2.head())  # Los primeros cinco datos\n",
    "print(\"\\n\")  \n",
    "print(serie_2.tail())  # Los ultimos cinco datos\n",
    "print(\"\\n\")\n",
    "print(str(serie_2.mean()) + \"\\n\")  # El valor promedio\n",
    "print(str(serie_2.median()) + \"\\n\")  # El valor medio\n",
    "print(serie_2.std())  # La deviacion estandar"
   ]
  },
  {
   "cell_type": "markdown",
   "metadata": {},
   "source": [
    "### Uno puede accesar los datos usando \"indexing\""
   ]
  },
  {
   "cell_type": "code",
   "execution_count": 8,
   "metadata": {},
   "outputs": [
    {
     "name": "stdout",
     "output_type": "stream",
     "text": [
      "98\n",
      "2015-01-01    17\n",
      "2015-01-02    70\n",
      "2015-01-03    74\n",
      "2015-01-04    19\n",
      "2015-01-05    40\n",
      "Freq: D, dtype: int32\n",
      "2016-01-01    16\n",
      "2016-01-02    64\n",
      "2016-01-03    76\n",
      "2016-01-04    71\n",
      "2016-01-05    47\n",
      "Freq: D, dtype: int32\n",
      "2015-01-01    17\n",
      "2015-01-02    70\n",
      "2015-01-03    74\n",
      "2015-01-04    19\n",
      "2015-01-05    40\n",
      "Freq: D, dtype: int32\n"
     ]
    }
   ],
   "source": [
    "print(serie_2[1000])  # El punto de dato numero 1000 \n",
    "print(serie_2[:366].head())  # Los primeros 365 datos (Mostrando solo los primeros 5)\n",
    "print(serie_2[365:].head())  # Los datos despues del valor 365 (Mostrando solo los primeros 5)\n",
    "print(serie_2[:-365].head())  # Los datos excepto los ultimos 365 (Mostrando solo los primeros 5)"
   ]
  },
  {
   "cell_type": "markdown",
   "metadata": {},
   "source": [
    "### Tambien es posible filtar ciertos valores del data."
   ]
  },
  {
   "cell_type": "code",
   "execution_count": 9,
   "metadata": {},
   "outputs": [],
   "source": [
    "serie_filtrada = serie_2[serie_2 > 40]  # Crear una nueva solo con los valores mayores a 40. "
   ]
  },
  {
   "cell_type": "markdown",
   "metadata": {},
   "source": [
    "## Resampling\n",
    "### Es posible reorganizar los datos a otras frecuencias y aplicar transformaciones. "
   ]
  },
  {
   "cell_type": "code",
   "execution_count": 10,
   "metadata": {},
   "outputs": [
    {
     "data": {
      "text/plain": [
       "2015-01-31    1339\n",
       "2015-02-28    1284\n",
       "2015-03-31    1276\n",
       "2015-04-30    1359\n",
       "2015-05-31    1514\n",
       "Freq: M, dtype: int32"
      ]
     },
     "execution_count": 10,
     "metadata": {},
     "output_type": "execute_result"
    }
   ],
   "source": [
    "# Crear una nueva serie con los valores sumados de cada mes para los cuatro años\n",
    "serie_meses = serie_2.resample(\"M\").sum() \n",
    "serie_meses.head()"
   ]
  },
  {
   "cell_type": "markdown",
   "metadata": {},
   "source": [
    "## Ejercicio 1:\n",
    "### Crear una nuevas series con los valores sumados de cada año y una con los valores promedios"
   ]
  },
  {
   "cell_type": "code",
   "execution_count": 12,
   "metadata": {},
   "outputs": [
    {
     "name": "stdout",
     "output_type": "stream",
     "text": [
      "2015-12-31    18172\n",
      "2016-12-31    18388\n",
      "2017-12-31    18510\n",
      "2018-12-31    18964\n",
      "Freq: A-DEC, dtype: int32\n",
      "2015-12-31    49.786301\n",
      "2016-12-31    50.240437\n",
      "2017-12-31    50.712329\n",
      "2018-12-31    51.956164\n",
      "Freq: A-DEC, dtype: float64\n"
     ]
    }
   ],
   "source": [
    "serie_ = serie_2.resample(\"Y\").sum()\n",
    "serie_3 = serie_2.resample(\"Y\").mean()\n",
    "print(serie_.head())\n",
    "print(serie_3.head())"
   ]
  },
  {
   "cell_type": "markdown",
   "metadata": {},
   "source": [
    "### Es posible usar resample con funciones costumizadas. "
   ]
  },
  {
   "cell_type": "code",
   "execution_count": 12,
   "metadata": {},
   "outputs": [],
   "source": [
    "# Simple funcion para costumizar una nueva serie. \n",
    "# Funciones pueden llegar a ser mucho mas complejas\n",
    "# La funcion va a actuar en los datos de la serie como si fuera un listado. \n",
    "\n",
    "\n",
    "def funcion_a(listado, numero):\n",
    "    return sum(listado) + numero "
   ]
  },
  {
   "cell_type": "code",
   "execution_count": 13,
   "metadata": {},
   "outputs": [
    {
     "data": {
      "text/plain": [
       "2015-01-31    1306\n",
       "2015-02-28    1399\n",
       "2015-03-31    1550\n",
       "2015-04-30    1556\n",
       "2015-05-31    1605\n",
       "Freq: M, dtype: int32"
      ]
     },
     "execution_count": 13,
     "metadata": {},
     "output_type": "execute_result"
    }
   ],
   "source": [
    "# Crear una serie \n",
    "serie_personalizada = serie_2.resample(\"M\").apply(funcion_a, numero=5) \n",
    "serie_personalizada.head()"
   ]
  },
  {
   "cell_type": "markdown",
   "metadata": {},
   "source": [
    "## Groupby\n",
    "### Parecido a resample pero es util para crear multi-indices"
   ]
  },
  {
   "cell_type": "code",
   "execution_count": 14,
   "metadata": {},
   "outputs": [],
   "source": [
    "# Crear una serie agrupada por cada mes con el valor promedio de cada año para ese mes. \n",
    "serie_promedio = (serie_2.groupby([serie_2.index.year, serie_2.index.month])).mean()"
   ]
  },
  {
   "cell_type": "code",
   "execution_count": 15,
   "metadata": {},
   "outputs": [
    {
     "data": {
      "text/plain": [
       "2015  1     41.967742\n",
       "      2     49.785714\n",
       "      3     49.838710\n",
       "      4     51.700000\n",
       "      5     51.612903\n",
       "      6     56.100000\n",
       "      7     52.258065\n",
       "      8     50.709677\n",
       "      9     53.933333\n",
       "      10    51.000000\n",
       "      11    39.266667\n",
       "      12    52.548387\n",
       "2016  1     50.129032\n",
       "      2     49.586207\n",
       "      3     53.419355\n",
       "      4     56.700000\n",
       "      5     52.258065\n",
       "      6     53.300000\n",
       "      7     50.032258\n",
       "      8     48.838710\n",
       "      9     48.766667\n",
       "      10    47.870968\n",
       "      11    50.833333\n",
       "      12    58.322581\n",
       "2017  1     49.483871\n",
       "      2     57.285714\n",
       "      3     58.774194\n",
       "      4     50.966667\n",
       "      5     42.645161\n",
       "      6     50.533333\n",
       "      7     48.387097\n",
       "      8     54.870968\n",
       "      9     41.700000\n",
       "      10    54.838710\n",
       "      11    45.766667\n",
       "      12    49.000000\n",
       "2018  1     50.290323\n",
       "      2     51.821429\n",
       "      3     46.612903\n",
       "      4     50.233333\n",
       "      5     58.032258\n",
       "      6     45.500000\n",
       "      7     41.967742\n",
       "      8     55.741935\n",
       "      9     46.033333\n",
       "      10    46.580645\n",
       "      11    53.433333\n",
       "      12    50.741935\n",
       "dtype: float64"
      ]
     },
     "execution_count": 15,
     "metadata": {},
     "output_type": "execute_result"
    }
   ],
   "source": [
    "serie_promedio.loc[2015:2018]  # Los primeros seis meses con el valor promedio de cada año."
   ]
  },
  {
   "cell_type": "markdown",
   "metadata": {},
   "source": [
    "## Droping\n",
    "### Es posible remover ciertos indices"
   ]
  },
  {
   "cell_type": "code",
   "execution_count": 16,
   "metadata": {
    "collapsed": true
   },
   "outputs": [
    {
     "data": {
      "text/plain": [
       "2015  7     52.258065\n",
       "      8     50.709677\n",
       "      9     53.933333\n",
       "      10    51.000000\n",
       "      11    39.266667\n",
       "      12    52.548387\n",
       "2016  7     50.032258\n",
       "      8     48.838710\n",
       "      9     48.766667\n",
       "      10    47.870968\n",
       "      11    50.833333\n",
       "      12    58.322581\n",
       "dtype: float64"
      ]
     },
     "execution_count": 16,
     "metadata": {},
     "output_type": "execute_result"
    }
   ],
   "source": [
    "# Los primeros seis meses removidos de todos los años.\n",
    "serie_promedio_drop = serie_promedio.drop(range(1, 7), level=1) \n",
    "serie_promedio_drop.loc[2015:2016]\n"
   ]
  },
  {
   "cell_type": "code",
   "execution_count": 17,
   "metadata": {},
   "outputs": [
    {
     "data": {
      "text/plain": [
       "2015  7     52.258065\n",
       "      8     50.709677\n",
       "      9     53.933333\n",
       "      10    51.000000\n",
       "      11    39.266667\n",
       "      12    52.548387\n",
       "2016  1     50.129032\n",
       "      2     49.586207\n",
       "      3     53.419355\n",
       "      4     56.700000\n",
       "      5     52.258065\n",
       "      6     53.300000\n",
       "      7     50.032258\n",
       "      8     48.838710\n",
       "      9     48.766667\n",
       "      10    47.870968\n",
       "      11    50.833333\n",
       "      12    58.322581\n",
       "2017  1     49.483871\n",
       "      2     57.285714\n",
       "      3     58.774194\n",
       "      4     50.966667\n",
       "      5     42.645161\n",
       "      6     50.533333\n",
       "      7     48.387097\n",
       "      8     54.870968\n",
       "      9     41.700000\n",
       "      10    54.838710\n",
       "      11    45.766667\n",
       "      12    49.000000\n",
       "2018  1     50.290323\n",
       "      2     51.821429\n",
       "      3     46.612903\n",
       "      4     50.233333\n",
       "      5     58.032258\n",
       "      6     45.500000\n",
       "      7     41.967742\n",
       "      8     55.741935\n",
       "      9     46.033333\n",
       "      10    46.580645\n",
       "      11    53.433333\n",
       "      12    50.741935\n",
       "dtype: float64"
      ]
     },
     "execution_count": 17,
     "metadata": {},
     "output_type": "execute_result"
    }
   ],
   "source": [
    "# Remover los primeros 6 meses de 2015 (Más complicado)\n",
    "\n",
    "# Hacer una copia sin 2015\n",
    "serie_quince = serie_promedio.drop(2015, level=0)\n",
    "\n",
    "# Hacer los cambios solo a la sub-serie de 2015 y crear el multi-indice\n",
    "quince = serie_promedio[2015]\n",
    "quince = quince.drop(range(1, 7))\n",
    "quince.index = pd.MultiIndex.from_product([[2015], [x for x in range(7, 13)]])\n",
    "\n",
    "# Agregar la nueva sub-serie (quince) a serie_quince y ponerlas en orden\n",
    "serie_quince = serie_quince.append(quince)\n",
    "serie_quince.sort_index(level=0)\n"
   ]
  },
  {
   "cell_type": "markdown",
   "metadata": {},
   "source": [
    "## Ejercicio 2\n",
    "### Crear una nueve serie solo con los meses y los años pares. "
   ]
  },
  {
   "cell_type": "code",
   "execution_count": 18,
   "metadata": {},
   "outputs": [
    {
     "data": {
      "text/plain": [
       "2015  2     49.785714\n",
       "      4     51.700000\n",
       "      6     56.100000\n",
       "      8     50.709677\n",
       "      10    51.000000\n",
       "      12    52.548387\n",
       "2017  2     57.285714\n",
       "      4     50.966667\n",
       "      6     50.533333\n",
       "      8     54.870968\n",
       "      10    54.838710\n",
       "      12    49.000000\n",
       "dtype: float64"
      ]
     },
     "execution_count": 18,
     "metadata": {},
     "output_type": "execute_result"
    }
   ],
   "source": [
    "# Utilizar este listado para \n",
    "pares = [x for x in range(1, 12) if x % 2]\n",
    "serie_promedio_pares = serie_promedio.drop(pares, level=1)\n",
    "serie_promedio_pares = serie_promedio_pares.drop([2016, 2018])\n",
    "serie_promedio_pares"
   ]
  },
  {
   "cell_type": "markdown",
   "metadata": {},
   "source": [
    "## Ejerecicio 3\n",
    "### Crear una serie con el valor promedio de cada mes por cada año hasta 2017 que tienen un valor mayor al promedio de 2018\n",
    "### Mes debe estar en el nivel 0 de la serie. "
   ]
  },
  {
   "cell_type": "code",
   "execution_count": 19,
   "metadata": {},
   "outputs": [
    {
     "data": {
      "text/plain": [
       "2   2017    57.285714\n",
       "3   2015    49.838710\n",
       "    2016    53.419355\n",
       "    2017    58.774194\n",
       "4   2015    51.700000\n",
       "    2016    56.700000\n",
       "    2017    50.966667\n",
       "6   2015    56.100000\n",
       "    2016    53.300000\n",
       "    2017    50.533333\n",
       "7   2015    52.258065\n",
       "    2016    50.032258\n",
       "    2017    48.387097\n",
       "9   2015    53.933333\n",
       "    2016    48.766667\n",
       "10  2015    51.000000\n",
       "    2016    47.870968\n",
       "    2017    54.838710\n",
       "12  2015    52.548387\n",
       "    2016    58.322581\n",
       "dtype: float64"
      ]
     },
     "execution_count": 19,
     "metadata": {},
     "output_type": "execute_result"
    }
   ],
   "source": [
    "# Crear una serie con los promedios a través de los cuatro años. (EJERCICIO)\n",
    "serie_promedios = (serie_2.groupby([serie_2.index.month, serie_2.index.year])).mean()\n",
    "# Crear una serie solo con los datos de 2018 (EJERCICIO)\n",
    "serie_2018 = serie_promedios.drop([2015, 2016, 2017], level=1)\n",
    "# Crear una serie sin 2018 (EJERCICIO)\n",
    "serie_sin_2018 = serie_promedios.drop(2018, level=1)\n",
    "\n",
    "\n",
    "# Utilizar esta funcion para el ejercicio \n",
    "def mayor_a_2018(serie_valores, serie_a_comparar):\n",
    "    \"\"\"\n",
    "    serie_valores: Una serie con los valores que queremos comparar\n",
    "    serie_a_comparar: Una serie de los 12 meses de 2018\n",
    "    Regresa una serie con las entradas de serie_valores que son mayor a los meses correspondientes de\n",
    "    serie_a_comparar \n",
    "    \"\"\"\n",
    "    indices = []\n",
    "    datos = []\n",
    "    for k, v in serie_valores.items():\n",
    "        mes = k[0]\n",
    "        if v > serie_a_comparar[mes][2018]:\n",
    "            indices.append(k)\n",
    "            datos.append(v)\n",
    "    multi_indice = pd.MultiIndex.from_tuples(indices)\n",
    "    return pd.Series(data=datos, index=multi_indice)\n",
    "\n",
    "\n",
    "# Llamar funcion\n",
    "mayor_a_2018(serie_sin_2018, serie_2018)  # Poner las series creadas aqui"
   ]
  },
  {
   "cell_type": "markdown",
   "metadata": {},
   "source": [
    "## Trabajando con un file csv. "
   ]
  },
  {
   "cell_type": "code",
   "execution_count": 35,
   "metadata": {
    "collapsed": true
   },
   "outputs": [
    {
     "name": "stdout",
     "output_type": "stream",
     "text": [
      "Month\n",
      "1960-01     6550.0\n",
      "1960-02     8728.0\n",
      "1960-03    12026.0\n",
      "1960-04    14395.0\n",
      "1960-05    14587.0\n",
      "Name: Monthly car sales in Quebec 1960-1968, dtype: float64\n",
      "Month\n",
      "1968-09                                  14385.0\n",
      "1968-10                                  21342.0\n",
      "1968-11                                  17180.0\n",
      "1968-12                                  14577.0\n",
      "Monthly car sales in Quebec 1960-1968        NaN\n",
      "Name: Monthly car sales in Quebec 1960-1968, dtype: float64\n"
     ]
    }
   ],
   "source": [
    "# Abrir file y crear serie de file\n",
    "file = \"https://raw.githubusercontent.com/pandolf99/Ejercicios_ciencia_de_datos/master/monthly-car-sales-in-quebec-1960.csv\"\n",
    "serie_carros = pd.read_csv(file, index_col=0, squeeze=True)\n",
    "# Revisar el principio y el final\n",
    "print(serie_carros.head())\n",
    "print(serie_carros.tail())"
   ]
  },
  {
   "cell_type": "markdown",
   "metadata": {},
   "source": [
    "### Los datos reales muchas veces son imperfectos.\n",
    "### Por ejemplo este no tiene las fechas en el tipo de data de tiempo de pandas y el ultimo indice no es una fecha\n",
    "### Hay que limpiarlos"
   ]
  },
  {
   "cell_type": "code",
   "execution_count": 36,
   "metadata": {},
   "outputs": [
    {
     "data": {
      "text/plain": [
       "Month\n",
       "1968-08-31    16722.0\n",
       "1968-09-30    14385.0\n",
       "1968-10-31    21342.0\n",
       "1968-11-30    17180.0\n",
       "1968-12-31    14577.0\n",
       "Freq: M, Name: Monthly car sales in Quebec 1960-1968, dtype: float64"
      ]
     },
     "execution_count": 36,
     "metadata": {},
     "output_type": "execute_result"
    }
   ],
   "source": [
    "# Remover el ultimo indice que no contiene datos\n",
    "serie_carros = serie_carros.dropna()\n",
    "# Convertir a tipo de tiempo y cambiar la frecuencia a final de mes\n",
    "# Usar pad para llenar los indices de final de mes con los valores de principio de mes\n",
    "serie_carros.index = pd.to_datetime(serie_carros.index)\n",
    "serie_carros = serie_carros.resample(\"M\").mean()\n",
    "serie_carros.tail()"
   ]
  },
  {
   "cell_type": "markdown",
   "metadata": {},
   "source": [
    "## Ejercicio 4\n",
    "### Encontrar los seis meses de cada año con las mayores ventas de cada año y crear una serie de multi_indice"
   ]
  },
  {
   "cell_type": "code",
   "execution_count": 38,
   "metadata": {},
   "outputs": [
    {
     "data": {
      "text/plain": [
       "1960  5     14587.0\n",
       "      4     14395.0\n",
       "      6     13791.0\n",
       "      3     12026.0\n",
       "      10     9545.0\n",
       "      7      9498.0\n",
       "      11     9364.0\n",
       "1961  5     15926.0\n",
       "      6     13821.0\n",
       "      4     13784.0\n",
       "      11    12759.0\n",
       "      3     11837.0\n",
       "      7     11143.0\n",
       "      10    10015.0\n",
       "1962  5     20900.0\n",
       "      4     17010.0\n",
       "      6     16205.0\n",
       "      3     15200.0\n",
       "      11    12256.0\n",
       "      7     12143.0\n",
       "      10    11474.0\n",
       "Name: Monthly car sales in Quebec 1960-1968, dtype: float64"
      ]
     },
     "execution_count": 38,
     "metadata": {},
     "output_type": "execute_result"
    }
   ],
   "source": [
    "# Agrupar por año para encontrar los mayores valores de cada año\n",
    "indice = [range(1960, 1969), range(1, 13)]\n",
    "index = pd.MultiIndex.from_product(indice)\n",
    "serie_carros.index = index\n",
    "# Iterar a través de todos los años para encontrar los mayores 6\n",
    "lista = []\n",
    "for i in range(1960, 1969):\n",
    "    s = serie_carros[i].sort_values(ascending=False)\n",
    "    s2 = s[0:7]\n",
    "    meses = s2.index\n",
    "    ind = pd.MultiIndex.from_product([[i], meses])\n",
    "    s2.index = ind\n",
    "    lista.append(s2)\n",
    "serie_6_mayores = pd.concat(lista)\n",
    "serie_6_mayores.loc[1960:1962]"
   ]
  },
  {
   "cell_type": "code",
   "execution_count": null,
   "metadata": {},
   "outputs": [],
   "source": [
    "lista = []\n",
    "for i in range(1960, 1968):\n",
    "    lista_local = []\n",
    "    ventas_pasadas = serie_carros[i]\n",
    "    ventas_actuales = serie_carros[i + 1]\n",
    "    for ix in range(1, 13):\n",
    "        if ventas_pasadas[[ix]].values > ventas_actuales[[ix]].values:\n",
    "            lista_local.append(ventas_actuales[[ix]])\n",
    "    s = pd.concat(lista_local)\n",
    "    meses = s.index\n",
    "    s.index = pd.MultiIndex.from_product([[i+1], meses])\n",
    "    lista.append(s)\n",
    "serie_final = pd.concat(lista)\n",
    "serie_final"
   ]
  }
 ],
 "metadata": {
  "kernelspec": {
   "display_name": "Python 3",
   "language": "python",
   "name": "python3"
  },
  "language_info": {
   "codemirror_mode": {
    "name": "ipython",
    "version": 3
   },
   "file_extension": ".py",
   "mimetype": "text/x-python",
   "name": "python",
   "nbconvert_exporter": "python",
   "pygments_lexer": "ipython3",
   "version": "3.6.4"
  }
 },
 "nbformat": 4,
 "nbformat_minor": 1
}
