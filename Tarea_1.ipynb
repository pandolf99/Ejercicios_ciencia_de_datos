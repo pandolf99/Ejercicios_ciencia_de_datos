{
 "cells": [
  {
   "cell_type": "markdown",
   "metadata": {},
   "source": [
    "# Tarea 1\n",
    "# Análisis de datos con python\n",
    "##Instrucciones:\n",
    "### Responder todas las preguntas. Se recomienda trabajar en otro file y luego poner el codigo final aqui.\n",
    "### Parte de la tarea es buscar en internet los tips. "
   ]
  },
  {
   "cell_type": "code",
   "execution_count": 14,
   "metadata": {},
   "outputs": [],
   "source": [
    "import pandas as pd"
   ]
  },
  {
   "cell_type": "code",
   "execution_count": 15,
   "metadata": {},
   "outputs": [],
   "source": [
    "# Files necesarios:\n",
    "# note que todavía no estan en el formato deseado\n",
    "jugadores = \"https://raw.githubusercontent.com/pandolf99/Ejercicios_ciencia_de_datos/master/jugadores.csv\"\n",
    "equipos = \"https://raw.githubusercontent.com/pandolf99/Ejercicios_ciencia_de_datos/master/equipos.csv\"\n",
    "titanic = \"https://raw.githubusercontent.com/pandolf99/Ejercicios_ciencia_de_datos/master/Titanic.csv\""
   ]
  },
  {
   "cell_type": "code",
   "execution_count": 16,
   "metadata": {},
   "outputs": [],
   "source": [
    "# Cual jugador en un equipo que contiene las letras \"ia\" jugo menos de\n",
    "# 200 minutos e hizo más de 100 pases? \n",
    "# Su codigo aqui"
   ]
  },
  {
   "cell_type": "code",
   "execution_count": 17,
   "metadata": {},
   "outputs": [],
   "source": [
    "# Cual es el promedio de pases hechos por delanteros y por centro-campistas\n",
    "# Su codigo aqui"
   ]
  },
  {
   "cell_type": "code",
   "execution_count": 18,
   "metadata": {},
   "outputs": [],
   "source": [
    "# Cual equipo tuvo la mayor razón de goles a favor a goles en contra\n",
    "# Su codigo aqui"
   ]
  },
  {
   "cell_type": "code",
   "execution_count": 19,
   "metadata": {},
   "outputs": [],
   "source": [
    "# Cuantos jugadores en un equipo de clasificación menor a 10 jugaron más de 350 minutos \n",
    "# Tip: Usar \"merge\" en \n",
    "# Su codigo aqui"
   ]
  },
  {
   "cell_type": "code",
   "execution_count": 20,
   "metadata": {},
   "outputs": [],
   "source": [
    "# Cuantas mujeres casadas mayores de 50 años embarcaron en \"Cherbourg\"\n",
    "# Las mujeres casadas tienen \"Mrs.\" en el nombre\n",
    "# Su codigo aqui"
   ]
  },
  {
   "cell_type": "code",
   "execution_count": 21,
   "metadata": {},
   "outputs": [],
   "source": [
    "# Cual porcentaje de los pasajeros no tienen un valor para la edad\n",
    "# Tip: Usar \"isnull\"\n",
    "# Su codigo aqui"
   ]
  },
  {
   "cell_type": "code",
   "execution_count": 22,
   "metadata": {},
   "outputs": [],
   "source": []
  }
 ],
 "metadata": {
  "kernelspec": {
   "display_name": "Python 2",
   "language": "python",
   "name": "python2"
  },
  "language_info": {
   "codemirror_mode": {
    "name": "ipython",
    "version": 2
   },
   "file_extension": ".py",
   "mimetype": "text/x-python",
   "name": "python",
   "nbconvert_exporter": "python",
   "pygments_lexer": "ipython2",
   "version": "2.7.6"
  }
 },
 "nbformat": 4,
 "nbformat_minor": 0
}
